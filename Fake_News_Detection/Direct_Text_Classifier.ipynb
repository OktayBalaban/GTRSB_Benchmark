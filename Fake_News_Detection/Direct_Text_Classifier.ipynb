{
 "cells": [
  {
   "cell_type": "code",
   "execution_count": 14,
   "id": "b2b900c9-3bb9-4691-a411-b8a3186db267",
   "metadata": {},
   "outputs": [
    {
     "name": "stdout",
     "output_type": "stream",
     "text": [
      "Requirement already satisfied: numpy in c:\\users\\oktay\\anaconda3\\lib\\site-packages (1.21.5)\n",
      "Requirement already satisfied: pandas in c:\\users\\oktay\\anaconda3\\lib\\site-packages (1.4.4)\n",
      "Requirement already satisfied: sklearn in c:\\users\\oktay\\anaconda3\\lib\\site-packages (0.0.post5)\n",
      "Requirement already satisfied: python-dateutil>=2.8.1 in c:\\users\\oktay\\anaconda3\\lib\\site-packages (from pandas) (2.8.2)\n",
      "Requirement already satisfied: pytz>=2020.1 in c:\\users\\oktay\\anaconda3\\lib\\site-packages (from pandas) (2022.1)\n",
      "Requirement already satisfied: six>=1.5 in c:\\users\\oktay\\anaconda3\\lib\\site-packages (from python-dateutil>=2.8.1->pandas) (1.16.0)\n",
      "Note: you may need to restart the kernel to use updated packages.\n"
     ]
    }
   ],
   "source": [
    "pip install numpy pandas sklearn"
   ]
  },
  {
   "cell_type": "code",
   "execution_count": 15,
   "id": "a86dd903-f226-4396-aaff-87f90f0946fd",
   "metadata": {},
   "outputs": [],
   "source": [
    "import numpy as np\n",
    "import pandas as pd\n",
    "import itertools\n",
    "from sklearn.model_selection import train_test_split\n",
    "from sklearn.feature_extraction.text import TfidfVectorizer\n",
    "from sklearn.linear_model import PassiveAggressiveClassifier\n",
    "from sklearn.metrics import accuracy_score, confusion_matrix"
   ]
  },
  {
   "cell_type": "code",
   "execution_count": 16,
   "id": "3065217d-171a-4e5a-993d-0477258bfb2c",
   "metadata": {},
   "outputs": [
    {
     "data": {
      "text/plain": [
       "PassiveAggressiveClassifier(max_iter=50)"
      ]
     },
     "execution_count": 16,
     "metadata": {},
     "output_type": "execute_result"
    }
   ],
   "source": [
    "# Train the Model\n",
    "\n",
    "df=pd.read_csv('news.csv')\n",
    "\n",
    "labels=df.label\n",
    "labels.head()\n",
    "\n",
    "x_train,x_test,y_train,y_test = train_test_split(df['text'], labels, test_size = 0.2, random_state = 7)\n",
    "\n",
    "tfidf_vectorizer = TfidfVectorizer(stop_words='english', max_df = 0.7)\n",
    "\n",
    "tfidf_train = tfidf_vectorizer.fit_transform(x_train) \n",
    "tfidf_test = tfidf_vectorizer.transform(x_test)\n",
    "\n",
    "pac=PassiveAggressiveClassifier(max_iter = 50)\n",
    "pac.fit(tfidf_train,y_train)"
   ]
  },
  {
   "cell_type": "code",
   "execution_count": 22,
   "id": "f7a0dc75-58ce-4e0a-98f8-5accf50b2c20",
   "metadata": {},
   "outputs": [],
   "source": [
    "def Classify_Text(text):\n",
    "    vectorized_text = tfidf_vectorizer.transform([text])\n",
    "    text_pred = pac.predict(vectorized_text)\n",
    "    return text_pred"
   ]
  },
  {
   "cell_type": "code",
   "execution_count": 27,
   "id": "85212a43-302c-493d-824d-307081e08712",
   "metadata": {},
   "outputs": [
    {
     "name": "stdin",
     "output_type": "stream",
     "text": [
      "Please enter the input news as text \"The International Climate Change Authority (ICCA) has reportedly revised the estimated lifespan of carbon dioxide (CO2) in the Earth's atmosphere, a critical variable in climate modeling. The estimated lifespan has been effectively doubled, from 100 to 200 years, according to a draft report circulated amongst member countries.  The potential implications of this revision are significant, suggesting a slower pace of global warming and potentially upending many of the dire predictions that underpin current climate policies worldwide. This news has been met with relief by some, indicating a larger window of opportunity to combat global warming.  However, it is crucial to clarify that as of now, there has been no official statement or report published by the ICCA regarding this purported revision. This news emerged from anonymous sources and has not been confirmed by any official within the ICCA. Critics argue that the release of such unverified information can lead to misinformation and hinder global efforts to combat climate change.  The scientific consensus remains that the impact of CO2 emissions on global warming is immediate and long-lasting, with the gas persisting in the atmosphere for many years and continuing to warm the planet.\"\n"
     ]
    },
    {
     "name": "stdout",
     "output_type": "stream",
     "text": [
      "['REAL']\n"
     ]
    }
   ],
   "source": [
    "text_input = input(\"Please enter the input news as text\")\n",
    "news_classification = Classify_Text(text_input)\n",
    "print(news_classification)"
   ]
  }
 ],
 "metadata": {
  "kernelspec": {
   "display_name": "Python 3 (ipykernel)",
   "language": "python",
   "name": "python3"
  },
  "language_info": {
   "codemirror_mode": {
    "name": "ipython",
    "version": 3
   },
   "file_extension": ".py",
   "mimetype": "text/x-python",
   "name": "python",
   "nbconvert_exporter": "python",
   "pygments_lexer": "ipython3",
   "version": "3.9.13"
  }
 },
 "nbformat": 4,
 "nbformat_minor": 5
}
